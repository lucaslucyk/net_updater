{
 "cells": [
  {
   "cell_type": "markdown",
   "metadata": {},
   "source": [
    "### Import modules"
   ]
  },
  {
   "cell_type": "code",
   "execution_count": 1,
   "metadata": {},
   "outputs": [],
   "source": [
    "import mmap\n",
    "import shutil\n",
    "import os\n",
    "import re\n",
    "import sqlite3\n",
    "import subprocess\n",
    "from sqlite3 import Error\n",
    "from pathlib import Path"
   ]
  },
  {
   "cell_type": "markdown",
   "metadata": {},
   "source": [
    "### Global constants"
   ]
  },
  {
   "cell_type": "code",
   "execution_count": 21,
   "metadata": {},
   "outputs": [],
   "source": [
    "NETTIME_FOLDER = r'C:\\Program Files\\SPEC\\netTimeV4'\n",
    "APP_NAME = 'netTimeV4'\n",
    "SERVICE = 'netTimeV4'\n",
    "APP = 'netTime'\n",
    "V55_RELEASE = 'netTime 5.5.1.16168'\n",
    "INSTALLER = 'netTime_x64_es_es.msi'\n",
    "\n",
    "EMPLOYEES = 540\n",
    "ACCESS_EMPLOYEES = 540"
   ]
  },
  {
   "cell_type": "markdown",
   "metadata": {},
   "source": [
    "### Stop service"
   ]
  },
  {
   "cell_type": "code",
   "execution_count": 4,
   "metadata": {},
   "outputs": [],
   "source": [
    "def change_service(service='netTimeV4', command='start'):\n",
    "    try:\n",
    "        output = subprocess.check_output([\"net\", command, service])\n",
    "    except Exception as e:\n",
    "        output = str(e)\n",
    "    return output"
   ]
  },
  {
   "cell_type": "code",
   "execution_count": 149,
   "metadata": {},
   "outputs": [
    {
     "data": {
      "text/plain": [
       "\"Command '['net', 'stop', 'netTime']' returned non-zero exit status 2.\""
      ]
     },
     "execution_count": 149,
     "metadata": {},
     "output_type": "execute_result"
    }
   ],
   "source": [
    "change_service(service='netTime', command='stop')"
   ]
  },
  {
   "cell_type": "markdown",
   "metadata": {},
   "source": [
    "### Last log"
   ]
  },
  {
   "cell_type": "code",
   "execution_count": 6,
   "metadata": {},
   "outputs": [],
   "source": [
    "def get_last_log(app_folder=NETTIME_FOLDER):\n",
    "    # set logs folder\n",
    "    dirpath = os.path.join(app_folder, 'Logs')\n",
    "    # get all files order by date\n",
    "    paths = sorted(Path(dirpath).iterdir(), key=os.path.getmtime)\n",
    "    # safety only\n",
    "    if not paths:\n",
    "        return None\n",
    "    # return last\n",
    "    return paths[-1]"
   ]
  },
  {
   "cell_type": "markdown",
   "metadata": {},
   "source": [
    "### License with last log"
   ]
  },
  {
   "cell_type": "code",
   "execution_count": 7,
   "metadata": {},
   "outputs": [],
   "source": [
    "def get_license(logfile=get_last_log()):\n",
    "    # empty default\n",
    "    nro_lic = ''\n",
    "    # open file\n",
    "    with open(logfile, 'rb', 0) as file, \\\n",
    "        mmap.mmap(file.fileno(), 0, access=mmap.ACCESS_READ) as s:\n",
    "        # search licencia\n",
    "        pos = s.find(b'Licencia: ')\n",
    "        # if founded, set posic and read number\n",
    "        if pos:\n",
    "            s.seek(pos + 10)\n",
    "            nro_lic = s.read(5).decode()\n",
    "    # return lic\n",
    "    return nro_lic"
   ]
  },
  {
   "cell_type": "code",
   "execution_count": 8,
   "metadata": {
    "scrolled": true
   },
   "outputs": [
    {
     "data": {
      "text/plain": [
       "'BQS0W'"
      ]
     },
     "execution_count": 8,
     "metadata": {},
     "output_type": "execute_result"
    }
   ],
   "source": [
    "LICENCIA = get_license()\n",
    "LICENCIA"
   ]
  },
  {
   "cell_type": "markdown",
   "metadata": {},
   "source": [
    "### Copy structure v4_to_v5 to nettime folder"
   ]
  },
  {
   "cell_type": "code",
   "execution_count": 9,
   "metadata": {
    "scrolled": true
   },
   "outputs": [],
   "source": [
    "def copy_structure(app_folder=NETTIME_FOLDER):\n",
    "    orig = os.path.join(os.path.dirname(os.getcwd()), 'v4_to_v5_5')\n",
    "    dest = os.path.join(nt_folder, 'v4_to_v5_5')\n",
    "\n",
    "    try:\n",
    "        shutil.rmtree(dest)\n",
    "    except FileNotFoundError:\n",
    "        pass\n",
    "\n",
    "    # copy data\n",
    "    return shutil.copytree(orig, dest)"
   ]
  },
  {
   "cell_type": "code",
   "execution_count": 42,
   "metadata": {},
   "outputs": [
    {
     "data": {
      "text/plain": [
       "'C:\\\\Program Files\\\\SPEC\\\\netTimeV4\\\\v4_to_v5_5'"
      ]
     },
     "execution_count": 42,
     "metadata": {},
     "output_type": "execute_result"
    }
   ],
   "source": [
    "copy_structure()"
   ]
  },
  {
   "cell_type": "markdown",
   "metadata": {},
   "source": [
    "### Make necessary backups"
   ]
  },
  {
   "cell_type": "code",
   "execution_count": 48,
   "metadata": {},
   "outputs": [],
   "source": [
    "def make_backup(app_folder, app_name='netTimeV4'):\n",
    "    # dest bkp folder\n",
    "    seg_folder = os.path.join(app_folder, 'v4_to_v5_5', '1_SegDatosV4toV5', app_name)\n",
    "    \n",
    "    try:\n",
    "        # remove old bkps\n",
    "        shutil.rmtree(seg_folder)\n",
    "        \n",
    "        # move bkp folder\n",
    "        shutil.move(\n",
    "            os.path.join(nt_folder, 'backup'),\n",
    "            os.path.join(seg_folder, 'backup')\n",
    "        )\n",
    "    except FileNotFoundError:\n",
    "        pass\n",
    "\n",
    "    try:\n",
    "        # folders to bkp\n",
    "        exclude = [\n",
    "            'backup',\n",
    "            'v4_to_v5_5'\n",
    "        ]\n",
    "        \n",
    "        # files to bkp\n",
    "        files = [file for file in os.listdir(nt_folder) if file not in exclude]\n",
    "        \n",
    "        for file in files:\n",
    "            # copy path\n",
    "            if os.path.isdir(os.path.join(nt_folder, file)):\n",
    "                # copy path\n",
    "                shutil.copytree(\n",
    "                    os.path.join(nt_folder, file),\n",
    "                    os.path.join(seg_folder, file)\n",
    "                )\n",
    "            # copy file\n",
    "            elif os.path.isfile(os.path.join(nt_folder, file)):\n",
    "                shutil.copy2(\n",
    "                    os.path.join(nt_folder, file),\n",
    "                    seg_folder\n",
    "                )\n",
    "        \n",
    "        # general propose\n",
    "        return True\n",
    "    \n",
    "    except Exception as error:\n",
    "        return error"
   ]
  },
  {
   "cell_type": "code",
   "execution_count": 49,
   "metadata": {},
   "outputs": [
    {
     "data": {
      "text/plain": [
       "True"
      ]
     },
     "execution_count": 49,
     "metadata": {},
     "output_type": "execute_result"
    }
   ],
   "source": [
    "make_backup(app_folder=NETTIME_FOLDER, app_name=APP_NAME)"
   ]
  },
  {
   "cell_type": "markdown",
   "metadata": {},
   "source": [
    "### Remove database files for active license"
   ]
  },
  {
   "cell_type": "code",
   "execution_count": 10,
   "metadata": {},
   "outputs": [],
   "source": [
    "def remove_needs(app_folder, app='netTime'):\n",
    "    # files to removes\n",
    "    files = [\n",
    "        f'{app}.mov',\n",
    "        f'{app}.sl3',\n",
    "        f'{app}.sl3-journal',\n",
    "        'workflow.sl3'\n",
    "    ]\n",
    "    for file in files:\n",
    "        if os.path.exists(os.path.join(app_folder, file)):\n",
    "            os.remove(os.path.join(app_folder, file))\n",
    "            \n",
    "    # folders to remove\n",
    "    folders = [\n",
    "        'backup'\n",
    "    ]\n",
    "    for folder in folders:\n",
    "        if os.path.isdir(os.path.join(app_folder, folder)):\n",
    "            _files = Path(os.path.join(app_folder, folder)).iterdir()\n",
    "            for f in _files:\n",
    "                os.remove(f)\n",
    "                \n",
    "    return True"
   ]
  },
  {
   "cell_type": "code",
   "execution_count": 55,
   "metadata": {},
   "outputs": [],
   "source": [
    "remove_needs(app_folder=NETTIME_FOLDER, app=APP)"
   ]
  },
  {
   "cell_type": "markdown",
   "metadata": {},
   "source": [
    "### Run installer"
   ]
  },
  {
   "cell_type": "code",
   "execution_count": 58,
   "metadata": {},
   "outputs": [],
   "source": [
    "def run_installer(version='netTime 5.5.1.16168', installer='netTime_x64_es_es.msi'):\n",
    "    print(\"1- Completar la instalación.\")\n",
    "    print(\"2- Activar la licencia.\")\n",
    "    print(\"3- Detener el servicio.\")\n",
    "    \n",
    "    file = os.path.join(os.path.dirname(os.getcwd()), version, installer)\n",
    "    os.startfile(file)\n",
    "    \n",
    "    input('4- Presiona Enter al finalizar...')"
   ]
  },
  {
   "cell_type": "code",
   "execution_count": 59,
   "metadata": {
    "scrolled": false
   },
   "outputs": [
    {
     "name": "stdout",
     "output_type": "stream",
     "text": [
      "1- Completa la instalación.\n",
      "2- Activa la licencia.\n",
      "3- Deten el servicio.\n",
      "4- Presiona Enter al finalizar...\n"
     ]
    }
   ],
   "source": [
    "run_installer(version=V55_RELEASE, installer=INSTALLER)\n",
    "# wait user with input() ..."
   ]
  },
  {
   "cell_type": "markdown",
   "metadata": {},
   "source": [
    "### Stop service"
   ]
  },
  {
   "cell_type": "code",
   "execution_count": 125,
   "metadata": {},
   "outputs": [
    {
     "data": {
      "text/plain": [
       "\"b''\""
      ]
     },
     "execution_count": 125,
     "metadata": {},
     "output_type": "execute_result"
    }
   ],
   "source": [
    "change_service(service=SERVICE, command='stop')"
   ]
  },
  {
   "cell_type": "markdown",
   "metadata": {},
   "source": [
    "#### Remove inst backups and database"
   ]
  },
  {
   "cell_type": "code",
   "execution_count": 66,
   "metadata": {},
   "outputs": [],
   "source": [
    "# remove files again\n",
    "remove_needs(app_folder=NETTIME_FOLDER, app=APP)"
   ]
  },
  {
   "cell_type": "markdown",
   "metadata": {},
   "source": [
    "#### Get last backup (not-used)"
   ]
  },
  {
   "cell_type": "code",
   "execution_count": 12,
   "metadata": {},
   "outputs": [],
   "source": [
    "def get_last_bkp(app_folder, app_name='netTimeV4'):\n",
    "    bkp_fodler = os.path.join(\n",
    "        app_folder,\n",
    "        'v4_to_v5_5',\n",
    "        '1_SegDatosV4toV5',\n",
    "        app_name,\n",
    "        'backup'\n",
    "    )\n",
    "    # list backup elements\n",
    "    items = sorted(Path(bkp_fodler).iterdir(), key=os.path.getmtime, reverse=True)\n",
    "    \n",
    "    # get last config\n",
    "    for item in items:\n",
    "        if re.match('config_backup_\\d*_\\d*\\.zip', item.name):\n",
    "            element = item\n",
    "            break\n",
    "    else:\n",
    "        element = None\n",
    "    \n",
    "    # return found element or None\n",
    "    return element"
   ]
  },
  {
   "cell_type": "markdown",
   "metadata": {},
   "source": [
    "### Restore databases from backups"
   ]
  },
  {
   "cell_type": "code",
   "execution_count": 132,
   "metadata": {},
   "outputs": [],
   "source": [
    "def db_recovery(app_folder, app='netTime'):\n",
    "    # dest bkp folder\n",
    "    seg_folder = os.path.join(app_folder, 'v4_to_v5_5', '1_SegDatosV4toV5', f'{app}V4')\n",
    "    \n",
    "    sl3 = [\n",
    "        f'{app}.mov',\n",
    "        f'{app}.sl3',\n",
    "        'workflow.sl3'\n",
    "    ]\n",
    "    \n",
    "    # restore databases\n",
    "    for file in sl3:\n",
    "        # ensure no files\n",
    "        if os.path.exists(os.path.join(app_folder, file)):\n",
    "            os.remove(os.path.join(app_folder, file))\n",
    "        \n",
    "        # restore\n",
    "        shutil.copy2(\n",
    "            os.path.join(seg_folder, file),\n",
    "            nt_folder\n",
    "        )\n",
    "        \n",
    "    # general propose\n",
    "    return True"
   ]
  },
  {
   "cell_type": "code",
   "execution_count": 133,
   "metadata": {},
   "outputs": [
    {
     "data": {
      "text/plain": [
       "True"
      ]
     },
     "execution_count": 133,
     "metadata": {},
     "output_type": "execute_result"
    }
   ],
   "source": [
    "db_recovery(app_folder=NETTIME_FOLDER, app=APP)"
   ]
  },
  {
   "cell_type": "markdown",
   "metadata": {},
   "source": [
    "## Scripts"
   ]
  },
  {
   "cell_type": "code",
   "execution_count": 29,
   "metadata": {},
   "outputs": [],
   "source": [
    "def verify_access(app_folder, app='netTime', access_number=None):\n",
    "    db_file = os.path.join(app_folder, f'{app}.sl3')\n",
    "    \n",
    "    with sqlite3.connect(db_file) as conn:\n",
    "        cursor = conn.cursor()\n",
    "        \n",
    "        # lic accesos\n",
    "        cursor.execute(\"SELECT Count(*) FROM APPDATA WHERE IDTYPE = 14 AND DATA LIKE '%parent=\\\"PerfilAccesos\\\"%';\")\n",
    "        accesos = cursor.fetchone()\n",
    "        accesos = accesos[0] if accesos else -1\n",
    "        \n",
    "    # if match with saved data\n",
    "    if accesos == access_number:\n",
    "        return True\n",
    "    \n",
    "    # in difference case\n",
    "    return False"
   ]
  },
  {
   "cell_type": "code",
   "execution_count": 32,
   "metadata": {},
   "outputs": [
    {
     "name": "stdout",
     "output_type": "stream",
     "text": [
      "El número de empleados con accesos no coincide.\n",
      "    Desea continuar? (Y/N)n\n"
     ]
    }
   ],
   "source": [
    "if not verify_access(app_folder=NETTIME_FOLDER, app=APP, access_number=ACCESS_EMPLOYEES):\n",
    "    decic = input('El número de empleados con accesos no coincide.\\r\\n\\\n",
    "    Desea continuar? (Y/N)')\n",
    "    \n",
    "    if decic.lower() == 'y':\n",
    "        print('Continuando...')"
   ]
  },
  {
   "cell_type": "code",
   "execution_count": 136,
   "metadata": {},
   "outputs": [],
   "source": [
    "def query_auto_generate(errors, app_folder, app='netTime'):\n",
    "    # database file\n",
    "    db_file = os.path.join(app_folder, f'{app}.sl3')\n",
    "    \n",
    "    # out queries\n",
    "    queries = []\n",
    "    \n",
    "    with sqlite3.connect(db_file) as conn:\n",
    "        cursor = conn.cursor()\n",
    "        \n",
    "        for error in errors:\n",
    "            # build and execute select query\n",
    "            cursor.execute(\n",
    "                \"{}{}{}\".format(\n",
    "                    \"SELECT DATA FROM APPDATA WHERE DATA LIKE '%\",\n",
    "                    error,\n",
    "                    \"%' AND IDTYPE != 27 LIMIT 1;\"\n",
    "                )\n",
    "            )\n",
    "            # view one result only\n",
    "            result = cursor.fetchone()\n",
    "            if not result:\n",
    "                print(\"Error getting data with\", error)\n",
    "                continue\n",
    "            \n",
    "            # find datetime in text\n",
    "            re_match = re.search(f'E{error[1:]}[\\d\\:\\.]*', result[0])\n",
    "            if not re_match:\n",
    "                re_match = re.search(f'e{error[1:]}[\\d\\:\\.]*', result[0])\n",
    "                if not re_match:\n",
    "                    print(\"Error getting hour.\", error, result[0], sep=\"\\n\")\n",
    "                    continue\n",
    "            \n",
    "            # str match\n",
    "            match = result[0][re_match.start(): re_match.end()]\n",
    "            \n",
    "            # split to fix hours to 00:00...\n",
    "            m_split = match.split('T')\n",
    "            hour = re.sub('\\d', '0', m_split[1])\n",
    "            \n",
    "            # upper or lower case\n",
    "            tr = 'endDate=\"2040-12-31T'\n",
    "            if match.find(\"EndDate\") >= 0:\n",
    "                tr = 'EndDate=\"2040-12-31T'\n",
    "            \n",
    "            # query build\n",
    "            new_query = '{}{}{}{}{}{}'.format(\n",
    "                \"UPDATE APPDATA SET DATA = REPLACE(DATA,'\",\n",
    "                match,\n",
    "                \"','\",\n",
    "                tr,\n",
    "                hour,\n",
    "                \"') WHERE IDTYPE != 27;\"\n",
    "            )\n",
    "            \n",
    "            # append to generated queries\n",
    "            #print(\"Adding\", new_query)\n",
    "            queries.append(new_query)\n",
    "        \n",
    "    # return builds\n",
    "    return queries"
   ]
  },
  {
   "cell_type": "code",
   "execution_count": 145,
   "metadata": {},
   "outputs": [],
   "source": [
    "def run_scripts(app_folder, app='netTime', queries=[]):\n",
    "    db_file = os.path.join(app_folder, f'{app}.sl3')\n",
    "    \n",
    "    with sqlite3.connect(db_file) as conn:\n",
    "        cursor = conn.cursor()\n",
    "\n",
    "        # run update last date commands\n",
    "        for command in queries:\n",
    "            cursor.execute(command)\n",
    "        \n",
    "        # commit changes\n",
    "        if queries:\n",
    "            conn.commit()\n",
    "        \n",
    "        # verify results\n",
    "        ld_results = {'_ok': [], '_error': [], '_exec_queries': queries}\n",
    "        \n",
    "        # list of verifies\n",
    "        ld_verify_commands = [\n",
    "            'EndDate=\"2019-12-30T',\n",
    "            'EndDate=\"2019-12-31T',\n",
    "            'EndDate=\"2020-01-01T',\n",
    "            'EndDate=\"2020-12-31T',\n",
    "            'EndDate=\"2030-12-31T',\n",
    "            'endDate=\"2019-12-30T',\n",
    "            'endDate=\"2019-12-31T',\n",
    "            'endDate=\"2020-01-01T',\n",
    "            'endDate=\"2020-12-31T',\n",
    "            'endDate=\"2030-12-31T',\n",
    "        ]\n",
    "        \n",
    "        # build and execute verifies\n",
    "        for command in ld_verify_commands:\n",
    "            cursor.execute(\n",
    "                \"{}{}{}\".format(\n",
    "                    \"SELECT Count(*) FROM APPDATA WHERE DATA LIKE '%\",\n",
    "                    command,\n",
    "                    \"%' AND IDTYPE != 27;\"\n",
    "                )\n",
    "            )\n",
    "            \n",
    "            result = cursor.fetchone()\n",
    "            if result:\n",
    "                if result[0] == 0:\n",
    "                    ld_results['_ok'].append(command)\n",
    "                else:\n",
    "                    ld_results['_error'].append(command)\n",
    "    \n",
    "    if ld_results.get('_error'):\n",
    "        print(\"Error en fechas. Recursivando...\")\n",
    "        \n",
    "        # recursive call if errors\n",
    "        return run_scripts(\n",
    "            app_folder=app_folder,\n",
    "            app=app,\n",
    "            queries=query_auto_generate(\n",
    "                errors=ld_results.get('_error'),\n",
    "                app_folder=app_folder,\n",
    "                app=app\n",
    "            )\n",
    "        )\n",
    "    \n",
    "    # return resume\n",
    "    return ld_results"
   ]
  },
  {
   "cell_type": "code",
   "execution_count": 146,
   "metadata": {},
   "outputs": [
    {
     "name": "stdout",
     "output_type": "stream",
     "text": [
      "Error en fechas. Recursivando...\n",
      "Error en fechas. Recursivando...\n"
     ]
    },
    {
     "data": {
      "text/plain": [
       "{'_ok': ['EndDate=\"2019-12-30T',\n",
       "  'EndDate=\"2019-12-31T',\n",
       "  'EndDate=\"2020-01-01T',\n",
       "  'EndDate=\"2020-12-31T',\n",
       "  'EndDate=\"2030-12-31T',\n",
       "  'endDate=\"2019-12-30T',\n",
       "  'endDate=\"2019-12-31T',\n",
       "  'endDate=\"2020-01-01T',\n",
       "  'endDate=\"2020-12-31T',\n",
       "  'endDate=\"2030-12-31T'],\n",
       " '_error': [],\n",
       " '_exec_queries': ['UPDATE APPDATA SET DATA = REPLACE(DATA,\\'endDate=\"2030-12-31T00:00:00.000\\',\\'endDate=\"2040-12-31T00:00:00.000\\') WHERE IDTYPE != 27;',\n",
       "  'UPDATE APPDATA SET DATA = REPLACE(DATA,\\'endDate=\"2030-12-31T00:00:00.000\\',\\'endDate=\"2040-12-31T00:00:00.000\\') WHERE IDTYPE != 27;']}"
      ]
     },
     "execution_count": 146,
     "metadata": {},
     "output_type": "execute_result"
    }
   ],
   "source": [
    "run_scripts(app_folder=NETTIME_FOLDER, app=APP)"
   ]
  },
  {
   "cell_type": "markdown",
   "metadata": {},
   "source": [
    "### LastYear to .ini"
   ]
  },
  {
   "cell_type": "code",
   "execution_count": 147,
   "metadata": {},
   "outputs": [],
   "source": [
    "def update_ini(app_folder, app='netTime'):\n",
    "    \n",
    "    # function to match setting\n",
    "    def match_setting(element):\n",
    "        if re.match('Configuration\\.LastYear\\=\\d*', element):\n",
    "            return element\n",
    "    \n",
    "    # setting\n",
    "    setting = 'Configuration.LastYear='\n",
    "    \n",
    "    # set path\n",
    "    ini_path = os.path.join(app_folder, f'{app}.ini')\n",
    "    \n",
    "    # set vars\n",
    "    value = None\n",
    "    \n",
    "    # open file\n",
    "    with open(ini_path, 'r') as f:\n",
    "        content = f.readlines()\n",
    "    \n",
    "    # remove if founded\n",
    "    found = list(filter(match_setting, content))\n",
    "    if found:\n",
    "        content.remove(found[0])\n",
    "    \n",
    "    # add setting\n",
    "    content.append(f'{setting}2040\\n')\n",
    "    \n",
    "    # open file\n",
    "    with open(ini_path, 'w') as f:\n",
    "       f.writelines(content)\n",
    "        \n",
    "    return True"
   ]
  },
  {
   "cell_type": "code",
   "execution_count": 148,
   "metadata": {},
   "outputs": [
    {
     "data": {
      "text/plain": [
       "True"
      ]
     },
     "execution_count": 148,
     "metadata": {},
     "output_type": "execute_result"
    }
   ],
   "source": [
    "update_ini(app_folder=NETTIME_FOLDER, app=APP)"
   ]
  },
  {
   "cell_type": "markdown",
   "metadata": {},
   "source": [
    "### Unificar diferencias en .ini"
   ]
  },
  {
   "cell_type": "code",
   "execution_count": 108,
   "metadata": {
    "scrolled": true
   },
   "outputs": [
    {
     "name": "stdout",
     "output_type": "stream",
     "text": [
      "Unifique .ini y .exe.config con los backups...\n",
      "Presione Enter para continuar...\n"
     ]
    },
    {
     "data": {
      "text/plain": [
       "''"
      ]
     },
     "execution_count": 108,
     "metadata": {},
     "output_type": "execute_result"
    }
   ],
   "source": [
    "input('Unifique .ini y .exe.config con los backups...\\n\\\n",
    "Presione Enter para continuar...')"
   ]
  },
  {
   "cell_type": "markdown",
   "metadata": {},
   "source": [
    "### Start service"
   ]
  },
  {
   "cell_type": "code",
   "execution_count": 20,
   "metadata": {
    "scrolled": true
   },
   "outputs": [
    {
     "data": {
      "text/plain": [
       "b'El servicio de netTime est\\xa0 deteni\\x82ndose.\\r\\nEl servicio de netTime se detuvo correctamente.\\r\\n\\r\\n'"
      ]
     },
     "execution_count": 20,
     "metadata": {},
     "output_type": "execute_result"
    }
   ],
   "source": [
    "change_service(service='netTime', command='start')"
   ]
  },
  {
   "cell_type": "code",
   "execution_count": null,
   "metadata": {},
   "outputs": [],
   "source": []
  }
 ],
 "metadata": {
  "kernelspec": {
   "display_name": "Python 3.8.2 64-bit",
   "language": "python",
   "name": "python38264bit4e4149a56a1f462db0e2e44967667e66"
  },
  "language_info": {
   "codemirror_mode": {
    "name": "ipython",
    "version": 3
   },
   "file_extension": ".py",
   "mimetype": "text/x-python",
   "name": "python",
   "nbconvert_exporter": "python",
   "pygments_lexer": "ipython3",
   "version": "3.8.5"
  }
 },
 "nbformat": 4,
 "nbformat_minor": 4
}
