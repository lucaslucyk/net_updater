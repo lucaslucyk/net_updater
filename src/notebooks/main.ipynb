{
 "cells": [
  {
   "cell_type": "code",
   "execution_count": 42,
   "metadata": {},
   "outputs": [],
   "source": [
    "import sys, os\n",
    "sys.path.append(os.path.join(os.getcwd(), '..'))\n",
    "from importlib import reload\n",
    "import re"
   ]
  },
  {
   "cell_type": "code",
   "execution_count": 9,
   "metadata": {},
   "outputs": [],
   "source": [
    "import utils\n",
    "import settings"
   ]
  },
  {
   "cell_type": "code",
   "execution_count": 12,
   "metadata": {},
   "outputs": [
    {
     "data": {
      "text/plain": [
       "<module 'settings' from 'D:\\\\Documentos\\\\Programming\\\\Python\\\\spec\\\\net_updater\\\\src\\\\notebooks\\\\..\\\\settings.py'>"
      ]
     },
     "execution_count": 12,
     "metadata": {},
     "output_type": "execute_result"
    }
   ],
   "source": [
    "reload(utils) # for reaload changes only\n",
    "reload(settings) # for reaload changes only"
   ]
  },
  {
   "cell_type": "code",
   "execution_count": 5,
   "metadata": {},
   "outputs": [
    {
     "name": "stdout",
     "output_type": "stream",
     "text": [
      "Asegúrese de: \n",
      "1- Guardar número de licencia y datos de activación.\n",
      "2- Actualizar link activación.\n",
      "3- Reiniciar servicio.\n",
      "4- Reactivar licencia.\n",
      "5- Guardar número de empleados.\n",
      "6- Guardar número de empleados con accesos.\n",
      "7- Desactivar terminales.\n",
      "8- Desactivar licencia.\n"
     ]
    }
   ],
   "source": [
    "print(\"Asegúrese de: \")\n",
    "print(\"1- Guardar número de licencia y datos de activación.\")\n",
    "print(\"2- Actualizar link activación.\")\n",
    "print(\"3- Reiniciar servicio.\")\n",
    "print(\"4- Reactivar licencia.\")\n",
    "print(\"5- Guardar número de empleados.\")\n",
    "print(\"6- Guardar número de empleados con accesos.\")\n",
    "print(\"7- Desactivar terminales.\")\n",
    "print(\"8- Desactivar licencia.\")"
   ]
  },
  {
   "cell_type": "code",
   "execution_count": 4,
   "metadata": {},
   "outputs": [
    {
     "name": "stdout",
     "output_type": "stream",
     "text": [
      "Continuar? (y/n):n\n",
      "Continuar? (y/n):h\n",
      "Continuar? (y/n):y\n"
     ]
    },
    {
     "data": {
      "text/plain": [
       "True"
      ]
     },
     "execution_count": 4,
     "metadata": {},
     "output_type": "execute_result"
    }
   ],
   "source": [
    "# entry to continue\n",
    "utils.await_confirm()"
   ]
  },
  {
   "cell_type": "code",
   "execution_count": 6,
   "metadata": {},
   "outputs": [
    {
     "name": "stdout",
     "output_type": "stream",
     "text": [
      "Command '['net', 'stop', 'netTimeV4']' returned non-zero exit status 2.\n",
      "Continuar? (y/n):n\n",
      "Continuar? (y/n):y\n"
     ]
    }
   ],
   "source": [
    "# stopping service\n",
    "stop_ser = utils.change_service(service=settings.APP_NAME, command='stop')\n",
    "if 'returned non-zero exit status 2' in stop_ser:\n",
    "    print(stop_ser)\n",
    "\n",
    "    # entry to continue\n",
    "    utils.await_confirm()"
   ]
  },
  {
   "cell_type": "code",
   "execution_count": 13,
   "metadata": {},
   "outputs": [
    {
     "name": "stdout",
     "output_type": "stream",
     "text": [
      "1- Completar la instalación.\n",
      "2- Activar la licencia.\n",
      "3- Detener el servicio.\n",
      "D:\\Documentos\\Programming\\Python\\spec\\net_updater\\src\\notebooks\\dotnetVerify\\dotnet.exe\n"
     ]
    },
    {
     "data": {
      "text/plain": [
       "FileNotFoundError(2, 'El sistema no puede encontrar el archivo especificado')"
      ]
     },
     "execution_count": 13,
     "metadata": {},
     "output_type": "execute_result"
    }
   ],
   "source": [
    "utils.run_installer(version='dotnetVerify', installer='dotnet.exe')"
   ]
  },
  {
   "cell_type": "code",
   "execution_count": 14,
   "metadata": {},
   "outputs": [],
   "source": [
    "import subprocess"
   ]
  },
  {
   "cell_type": "code",
   "execution_count": 45,
   "metadata": {},
   "outputs": [
    {
     "data": {
      "text/plain": [
       "['3082',\n",
       " 'v1.0.3705',\n",
       " 'v1.1.4322',\n",
       " 'v2.0.50727',\n",
       " 'v3.0',\n",
       " 'v3.5',\n",
       " 'v4.0.30319',\n",
       " '3082',\n",
       " 'v2.0.50727',\n",
       " 'v3.0',\n",
       " 'v3.5',\n",
       " 'v4.0.30319']"
      ]
     },
     "execution_count": 45,
     "metadata": {},
     "output_type": "execute_result"
    }
   ],
   "source": [
    "dn_path_86 = os.path.join(os.environ.get('windir'), 'Microsoft.NET', 'Framework')\n",
    "dn_path_64 = os.path.join(os.environ.get('windir'), 'Microsoft.NET', 'Framework64')\n",
    "ld_86 = os.listdir(dn_path_86)\n",
    "ld_64 = os.listdir(dn_path_64)\n",
    "\n",
    "folders = []\n",
    "for folder in [*ld_86, *ld_64]:\n",
    "    full_path = os.path.join(dn_path_86, folder)\n",
    "    folders.append(folder) if os.path.isdir(full_path) else None\n",
    "\n",
    "installed = False\n",
    "for version in folders:\n",
    "    # if re.match('v4\\.\\8\\.', version):\n",
    "    #    installed = True\n",
    "    version\n",
    "        \n",
    "folders"
   ]
  },
  {
   "cell_type": "code",
   "execution_count": 40,
   "metadata": {},
   "outputs": [
    {
     "name": "stdout",
     "output_type": "stream",
     "text": [
      "Object `re.match` not found.\n"
     ]
    }
   ],
   "source": []
  },
  {
   "cell_type": "code",
   "execution_count": null,
   "metadata": {},
   "outputs": [],
   "source": []
  }
 ],
 "metadata": {
  "kernelspec": {
   "display_name": "Python 3.8.2 64-bit",
   "language": "python",
   "name": "python38264bit4e4149a56a1f462db0e2e44967667e66"
  },
  "language_info": {
   "codemirror_mode": {
    "name": "ipython",
    "version": 3
   },
   "file_extension": ".py",
   "mimetype": "text/x-python",
   "name": "python",
   "nbconvert_exporter": "python",
   "pygments_lexer": "ipython3",
   "version": "3.8.5"
  }
 },
 "nbformat": 4,
 "nbformat_minor": 4
}
